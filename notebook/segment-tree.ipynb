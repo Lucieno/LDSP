{
 "cells": [
  {
   "cell_type": "code",
   "execution_count": 65,
   "id": "8cd9d296",
   "metadata": {},
   "outputs": [
    {
     "name": "stdout",
     "output_type": "stream",
     "text": [
      "[1024, 2045, 512, 1021, 256, 509, 128, 253, 64, 125, 32, 61, 16, 29, 8, 13, 4, 5]\n"
     ]
    }
   ],
   "source": [
    "def seg_indices(left, right, n):\n",
    "    res = []\n",
    "    def to_parent(x):\n",
    "        return (x-1) // 2\n",
    "    left += n - 1\n",
    "    right += n - 1\n",
    "    while left > 0 and right > 0 and left <= right:\n",
    "        if left % 2 == 0: # is right\n",
    "            res.append(left)\n",
    "            left += 1\n",
    "        left = to_parent(left)\n",
    "        if right % 2 == 1: # is left\n",
    "            res.append(right)\n",
    "            right -= 1\n",
    "        right = to_parent(right)\n",
    "    if left == right:\n",
    "        res.append(left)\n",
    "    return res\n",
    "\n",
    "print(seg_indices(1, 2**10-2, 2**10))"
   ]
  },
  {
   "cell_type": "code",
   "execution_count": 88,
   "id": "8bfff92b",
   "metadata": {},
   "outputs": [
    {
     "data": {
      "text/plain": [
       "(2, 1)"
      ]
     },
     "execution_count": 88,
     "metadata": {},
     "output_type": "execute_result"
    }
   ],
   "source": [
    "def seg_locate(coin_idx, left, right, num_coin):\n",
    "    res = []\n",
    "    def is_right(x):\n",
    "        return x % 2 == 0\n",
    "    def is_left(x):\n",
    "        return x % 2 == 1\n",
    "    def to_parent(x):\n",
    "        return (x-1) // 2\n",
    "    def roundup_power_2(x):\n",
    "        res = 1\n",
    "        while res < x:\n",
    "            res *= 2\n",
    "        return res\n",
    "    \n",
    "    n = roundup_power_2(num_coin)\n",
    "    left += n - 1\n",
    "    right += n - 1\n",
    "    coin_idx += n - 1\n",
    "    key_idx, layer_idx = 0, 0\n",
    "    while left > 0 and right > 0 and left < right:\n",
    "        if is_right(left):\n",
    "            res.append(left)\n",
    "            if coin_idx == left:\n",
    "                return key_idx, layer_idx\n",
    "            key_idx += 1;\n",
    "            left += 1\n",
    "        left = to_parent(left)\n",
    "        \n",
    "        if is_left(right):\n",
    "            res.append(right)\n",
    "            if coin_idx == right:\n",
    "                return key_idx, layer_idx\n",
    "            key_idx += 1;\n",
    "            right -= 1\n",
    "        right = to_parent(right)\n",
    "        \n",
    "        layer_idx += 1\n",
    "        coin_idx = to_parent(coin_idx)\n",
    "        \n",
    "    if left == right:\n",
    "        return key_idx, layer_idx\n",
    "        key_idx += 1\n",
    "        res.append(left)\n",
    "    \n",
    "#     return key_idx, layer_idx\n",
    "\n",
    "seg_locate(2, 1, 2046, 2048)\n",
    "# print(x, y)\n",
    "# comb = (x << 128) + y\n",
    "# print(comb)\n",
    "# print((comb >> 128), comb & ((1 << 128)-1))"
   ]
  },
  {
   "cell_type": "code",
   "execution_count": 67,
   "id": "47ccd1c7",
   "metadata": {},
   "outputs": [
    {
     "name": "stdout",
     "output_type": "stream",
     "text": [
      "0\n",
      "1 2\n",
      "3 4 5 6\n",
      "7 8 9 10 11 12 13 14\n"
     ]
    }
   ],
   "source": [
    "level = 4\n",
    "lst = [0]\n",
    "for i in range(level):\n",
    "    next_lst = []\n",
    "    for x in lst:\n",
    "        next_lst.append(2*x+1)\n",
    "        next_lst.append(2*x+2)\n",
    "    print(\" \".join([str(x) for x in lst]))\n",
    "    lst = next_lst"
   ]
  }
 ],
 "metadata": {
  "kernelspec": {
   "display_name": "Python 3",
   "language": "python",
   "name": "python3"
  },
  "language_info": {
   "codemirror_mode": {
    "name": "ipython",
    "version": 3
   },
   "file_extension": ".py",
   "mimetype": "text/x-python",
   "name": "python",
   "nbconvert_exporter": "python",
   "pygments_lexer": "ipython3",
   "version": "3.6.13"
  }
 },
 "nbformat": 4,
 "nbformat_minor": 5
}
